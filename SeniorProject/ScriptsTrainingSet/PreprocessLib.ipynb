{
 "cells": [
  {
   "cell_type": "code",
   "execution_count": 1,
   "metadata": {},
   "outputs": [],
   "source": [
    "from cltk import NLP\n",
    "import nltk"
   ]
  },
  {
   "cell_type": "code",
   "execution_count": 2,
   "metadata": {},
   "outputs": [],
   "source": [
    "#tokenizes the text using CLTK ancient greek tokenizer and returns text\n",
    "def tokenize(txt):\n",
    "    from cltk.sentence.grc import GreekRegexSentenceTokenizer\n",
    "    splitter = GreekRegexSentenceTokenizer()\n",
    "    return splitter.tokenize(txt)"
   ]
  },
  {
   "cell_type": "code",
   "execution_count": 3,
   "metadata": {},
   "outputs": [],
   "source": [
    "from cltk.stops.grc import STOPS\n",
    "\n",
    "#removes stop words from the text and returns text\n",
    "#ancient greek stop words are listed in the cltk.stops.grc package\n",
    "def stopWord(txt):\n",
    "    text = (' '.join(i for i in txt.split() if i not in STOPS))\n",
    "    return text"
   ]
  },
  {
   "cell_type": "code",
   "execution_count": 4,
   "metadata": {},
   "outputs": [],
   "source": [
    "removeList = [\"Mar\", \"Mat\", \"Heb\", \"Luk\", \"Act\", \"Ti\", \"Tit\", \"Th\", \"Gal\", \"Co\",\n",
    "              \"Phi\", \"Plm\", \"Rom\", \"|||\", \"[\", \"]\", \"|\", \"p\"]\n",
    "import re\n",
    "#removes text formatting markers and returns text \n",
    "def removeOther(txt):\n",
    "    newTxt = re.sub(r'|'.join(map(re.escape, removeList)), '', txt)\n",
    "    return newTxt"
   ]
  },
  {
   "cell_type": "code",
   "execution_count": 5,
   "metadata": {},
   "outputs": [],
   "source": [
    "import string\n",
    "#removes puncuation and return text\n",
    "def puncRemove(txt):\n",
    "    text = [''.join(letter for letter in word if letter not in string.punctuation) for word in txt]\n",
    "    return text"
   ]
  },
  {
   "cell_type": "code",
   "execution_count": 6,
   "metadata": {},
   "outputs": [],
   "source": [
    "#removes numbers and returns text\n",
    "def removeNum(txt):\n",
    "    text = ''.join([i for i in txt if not i.isdigit()])\n",
    "    return text"
   ]
  },
  {
   "cell_type": "code",
   "execution_count": 34,
   "metadata": {},
   "outputs": [],
   "source": [
    "#removes empty lists and returns text\n",
    "def removeSingleLists(txt):\n",
    "    newLst = [[]]\n",
    "    for sentence in txt:\n",
    "        line = []\n",
    "        for word in sentence:\n",
    "            if (word != ' '):\n",
    "                line.append(word)\n",
    "        if (line):\n",
    "            newLst.append(line)\n",
    "    return newLst"
   ]
  },
  {
   "cell_type": "code",
   "execution_count": 1,
   "metadata": {},
   "outputs": [],
   "source": [
    "#cleans the text and tokenizes if tokenizeTxt is true, then returns text\n",
    "def cleanText(txt, tokenizeTxt=True): \n",
    "    txt = removeOther(txt)\n",
    "   # txt = stopWord(txt)\n",
    "    txt = removeNum(txt)\n",
    "    if (tokenizeTxt):\n",
    "        txt = tokenize(txt) \n",
    "    return txt"
   ]
  }
 ],
 "metadata": {
  "kernelspec": {
   "display_name": "Python 3",
   "language": "python",
   "name": "python3"
  },
  "language_info": {
   "codemirror_mode": {
    "name": "ipython",
    "version": 3
   },
   "file_extension": ".py",
   "mimetype": "text/x-python",
   "name": "python",
   "nbconvert_exporter": "python",
   "pygments_lexer": "ipython3",
   "version": "3.8.5"
  }
 },
 "nbformat": 4,
 "nbformat_minor": 4
}
