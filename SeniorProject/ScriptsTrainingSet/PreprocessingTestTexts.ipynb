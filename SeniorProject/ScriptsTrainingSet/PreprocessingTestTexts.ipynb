{
 "cells": [
  {
   "cell_type": "code",
   "execution_count": 7,
   "metadata": {},
   "outputs": [],
   "source": [
    "import nltk\n",
    "import spacy\n",
    "import import_ipynb #allows access to import other notebooks\n",
    "from PreprocessLib import cleanText\n",
    "from cltk.tokenizers import GreekTokenizationProcess\n",
    "from cltk import NLP"
   ]
  },
  {
   "cell_type": "code",
   "execution_count": 8,
   "metadata": {},
   "outputs": [],
   "source": [
    "#a_file = open(\"./other-sources/Mark.txt\", \"r\", encoding=\"utf8\")\n",
    "def process_file(a_file):\n",
    "\n",
    "    string_without_line_breaks = \"\"\n",
    "    for line in a_file:\n",
    "        stripped_line = line.rstrip() + \" \"\n",
    "        string_without_line_breaks += stripped_line\n",
    "    a_file.close()\n",
    "    sentences = string_without_line_breaks\n",
    "\n",
    "    cleanedFile = cleanText(sentences) #cleanText is found in PreprocessLib.ipynb\n",
    "\n",
    "    output_doc = []\n",
    "    nlp = spacy.load(\"el_core_news_sm\")\n",
    "    for sentence in cleanedFile:      \n",
    "        temp = []\n",
    "        doc = nlp(sentence)\n",
    "        for token in doc:\n",
    "            temp.append(token.text)\n",
    "        output_doc.append(temp)\n",
    "\n",
    "   \n",
    "    return output_doc"
   ]
  }
 ],
 "metadata": {
  "kernelspec": {
   "display_name": "Python 3",
   "language": "python",
   "name": "python3"
  },
  "language_info": {
   "codemirror_mode": {
    "name": "ipython",
    "version": 3
   },
   "file_extension": ".py",
   "mimetype": "text/x-python",
   "name": "python",
   "nbconvert_exporter": "python",
   "pygments_lexer": "ipython3",
   "version": "3.8.5"
  }
 },
 "nbformat": 4,
 "nbformat_minor": 4
}
