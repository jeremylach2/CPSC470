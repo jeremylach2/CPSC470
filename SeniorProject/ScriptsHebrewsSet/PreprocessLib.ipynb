{
 "cells": [
  {
   "cell_type": "code",
   "execution_count": 1,
   "metadata": {},
   "outputs": [],
   "source": [
    "from cltk import NLP\n",
    "import nltk"
   ]
  },
  {
   "cell_type": "code",
   "execution_count": 2,
   "metadata": {},
   "outputs": [],
   "source": [
    "#tokenizing\n",
    "def tokenize(txt):\n",
    "    from cltk.sentence.grc import GreekRegexSentenceTokenizer\n",
    "    splitter = GreekRegexSentenceTokenizer()\n",
    "    return splitter.tokenize(txt)"
   ]
  },
  {
   "cell_type": "code",
   "execution_count": 3,
   "metadata": {},
   "outputs": [],
   "source": [
    "#stop word removing\n",
    "from nltk.tokenize.punkt import PunktLanguageVars\n",
    "from cltk.stops.grc import STOPS\n",
    "import gensim\n",
    "from gensim.parsing.preprocessing import STOPWORDS\n",
    "from gensim.parsing.preprocessing import remove_stopwords\n",
    "\n",
    "all_stopwords_gensim = STOPWORDS.union((STOPS))\n",
    "from nltk.corpus import stopwords  \n",
    "from nltk.tokenize import word_tokenize  \n",
    "\n",
    "def stopWord(txt):\n",
    "    text = (' '.join(i for i in txt.split() if i not in STOPS))\n",
    "    return text\n"
   ]
  },
  {
   "cell_type": "code",
   "execution_count": 4,
   "metadata": {},
   "outputs": [],
   "source": [
    "removeList = [\"Mar\", \"Mat\", \"Heb\", \"Luk\", \"Act\", \"Ti\", \"Tit\", \"Th\", \"Gal\", \"Co\",\n",
    "              \"Phi\", \"Plm\", \"Rom\", \"|||\", \"[\", \"]\", \"|\", \"p\"]\n",
    "import re\n",
    "def removeOther(txt):\n",
    "    import re\n",
    "    newTxt = re.sub(r'|'.join(map(re.escape, removeList)), '', txt)\n",
    "    return newTxt"
   ]
  },
  {
   "cell_type": "code",
   "execution_count": 5,
   "metadata": {},
   "outputs": [],
   "source": [
    "#puncuation removing\n",
    "import string\n",
    "def puncRemove(txt):\n",
    "    text = [''.join(letter for letter in word if letter not in string.punctuation) for word in txt]\n",
    "    return text"
   ]
  },
  {
   "cell_type": "code",
   "execution_count": 6,
   "metadata": {},
   "outputs": [],
   "source": [
    "#removing numbers\n",
    "def removeNum(txt):\n",
    "    text = ''.join([i for i in txt if not i.isdigit()])\n",
    "    return text"
   ]
  },
  {
   "cell_type": "code",
   "execution_count": 34,
   "metadata": {},
   "outputs": [],
   "source": [
    "def removeSingleLists(txt):\n",
    "    newLst = [[]]\n",
    "    single = [' ']\n",
    "    for sentence in txt:\n",
    "        line = []\n",
    "        for word in sentence:\n",
    "            if (word != ' '):\n",
    "                line.append(word)\n",
    "        if (line):\n",
    "            newLst.append(line)\n",
    "    return newLst"
   ]
  },
  {
   "cell_type": "code",
   "execution_count": 1,
   "metadata": {},
   "outputs": [],
   "source": [
    "def cleanText(txt, tokenizeTxt=True): \n",
    "    txt = removeOther(txt)\n",
    "    #txt = stopWord(txt)\n",
    "   # txt = puncRemove(txt) \n",
    "    txt = removeNum(txt)\n",
    "    if (tokenizeTxt):\n",
    "\n",
    "        txt = tokenize(txt) #tokenize for word2vec, not doc2vec\n",
    "       # txt = removeSingleLists(txt)\n",
    "    return txt"
   ]
  },
  {
   "cell_type": "code",
   "execution_count": 1,
   "metadata": {},
   "outputs": [],
   "source": [
    "import spacy\n",
    "def process_file(a_file, tokenize=True):\n",
    "    string_without_line_breaks = \"\"\n",
    "    for line in a_file:\n",
    "        stripped_line = line.rstrip() + \" \"\n",
    "        string_without_line_breaks += stripped_line\n",
    "    a_file.close()\n",
    "    sentences = string_without_line_breaks\n",
    "    \n",
    "    \n",
    "   \n",
    "    if (tokenize == False):\n",
    "        cleanedFile = cleanText(sentences, tokenize)\n",
    "        return cleanedFile\n",
    "    cleanedFile = cleanText(sentences) #cleanText is found in PreprocessLib.ipynb\n",
    "        \n",
    "    output_doc = []\n",
    "    nlp = spacy.load(\"el_core_news_sm\")\n",
    "\n",
    "    for sentence in cleanedFile:\n",
    "        temp = []\n",
    "        doc = nlp(sentence)\n",
    "        for token in doc:\n",
    "            temp.append(token.text)\n",
    "        output_doc.append(temp)\n",
    "        output_doc = removeSingleLists(output_doc)\n",
    "    return output_doc"
   ]
  },
  {
   "cell_type": "code",
   "execution_count": 1,
   "metadata": {},
   "outputs": [],
   "source": [
    "def process_file_doc(a_file):\n",
    "    string_without_line_breaks = \"\"\n",
    "    for line in a_file:\n",
    "        stripped_line = line.rstrip() + \" \"\n",
    "        string_without_line_breaks += stripped_line\n",
    "    a_file.close()\n",
    "    sentences = string_without_line_breaks\n",
    "\n",
    "    cleanedFile = cleanText(sentences, False) #cleanText is found in PreprocessLib.ipynb\n",
    "    return cleanedFile"
   ]
  }
 ],
 "metadata": {
  "kernelspec": {
   "display_name": "Python 3",
   "language": "python",
   "name": "python3"
  },
  "language_info": {
   "codemirror_mode": {
    "name": "ipython",
    "version": 3
   },
   "file_extension": ".py",
   "mimetype": "text/x-python",
   "name": "python",
   "nbconvert_exporter": "python",
   "pygments_lexer": "ipython3",
   "version": "3.8.5"
  }
 },
 "nbformat": 4,
 "nbformat_minor": 4
}
